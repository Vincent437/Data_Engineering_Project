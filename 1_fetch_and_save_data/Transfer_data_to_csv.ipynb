{
 "cells": [
  {
   "cell_type": "code",
   "execution_count": 10,
   "metadata": {},
   "outputs": [],
   "source": [
    "import pandas as pd\n",
    "import sqlalchemy\n",
    "from sqlalchemy.orm import sessionmaker\n",
    "from pymongo import MongoClient\n",
    "from datetime import datetime, timezone\n",
    "from sqlalchemy import create_engine, Column, Float, String, Integer, DateTime\n",
    "from sqlalchemy.orm import sessionmaker, declarative_base"
   ]
  },
  {
   "cell_type": "code",
   "execution_count": 11,
   "metadata": {},
   "outputs": [],
   "source": [
    "Base = declarative_base()\n",
    "\n",
    "class fx_data(Base):\n",
    "    __tablename__ = 'fx_rates'\n",
    "    id = Column(Integer, primary_key= True)\n",
    "    pair = Column(String)\n",
    "    fx_timestamp = Column(DateTime)\n",
    "    rate = Column(Float)\n",
    "    entry_timestamp = Column(DateTime, default=datetime.now(timezone.utc))\n",
    "\n",
    "    def __init__(self, pair, rate, fx_timestamp, entry_timestamp):\n",
    "        self.pair = pair\n",
    "        self.rate = rate\n",
    "        self.fx_timestamp = fx_timestamp\n",
    "        self.entry_timestamp = entry_timestamp"
   ]
  },
  {
   "cell_type": "code",
   "execution_count": 13,
   "metadata": {},
   "outputs": [],
   "source": [
    "engine = sqlalchemy.create_engine('sqlite:///fx_rates_sql.db')\n",
    "Session = sqlalchemy.orm.sessionmaker(bind = engine)\n",
    "session = Session()\n",
    "\n",
    "data = session.query(fx_data).all()\n",
    "\n",
    "df = pd.DataFrame(\n",
    "    [(row.fx_timestamp, row.pair, row.rate, row.entry_timestamp) for row in data],\n",
    "    columns=['fx_timestamp','pair','fx_rate','entry_timestamp']\n",
    ")\n",
    "df.to_csv('fx_rates_sql.csv',index=False)\n",
    "session.close()"
   ]
  },
  {
   "cell_type": "code",
   "execution_count": 14,
   "metadata": {},
   "outputs": [],
   "source": [
    "client = MongoClient('mongodb://localhost:27017/')\n",
    "mongo_db = client['fx_rates_mg']\n",
    "mongo_collection = mongo_db['fx']\n",
    "\n",
    "pd.DataFrame(list(mongo_collection.find({}))).to_csv('fx_rates_mongo.csv',index=False)"
   ]
  }
 ],
 "metadata": {
  "kernelspec": {
   "display_name": "pycaret",
   "language": "python",
   "name": "python3"
  },
  "language_info": {
   "codemirror_mode": {
    "name": "ipython",
    "version": 3
   },
   "file_extension": ".py",
   "mimetype": "text/x-python",
   "name": "python",
   "nbconvert_exporter": "python",
   "pygments_lexer": "ipython3",
   "version": "3.10.16"
  }
 },
 "nbformat": 4,
 "nbformat_minor": 2
}
