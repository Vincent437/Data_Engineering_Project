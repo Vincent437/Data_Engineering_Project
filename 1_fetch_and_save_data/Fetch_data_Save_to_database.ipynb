{
 "cells": [
  {
   "cell_type": "code",
   "execution_count": 1,
   "id": "94cca44e-5e01-4c02-ae03-33f468f7ffd0",
   "metadata": {},
   "outputs": [],
   "source": [
    "import pandas as pd\n",
    "import time\n",
    "from datetime import datetime, timezone\n",
    "from sqlalchemy import create_engine, Column, Float, String, Integer, DateTime\n",
    "from sqlalchemy.orm import sessionmaker, declarative_base\n",
    "from polygon import RESTClient\n",
    "import pymongo"
   ]
  },
  {
   "cell_type": "code",
   "execution_count": 2,
   "id": "34549fd8",
   "metadata": {},
   "outputs": [],
   "source": [
    "polygon_api = 'beBybSi8daPgsTp5yx5cHtHpYcrjp5Jq'\n",
    "sql_database_path = 'fx_rates_sql.db'\n",
    "csv_output_path = 'fx_rates.csv'\n",
    "mongo_db_url = \"mongodb://localhost:27017/\"\n",
    "mongo_db_name = \"fx_rates_mg\"\n",
    "mongo_collection_name = \"fx\"\n",
    "fx_list = [(\"EUR\", \"USD\"), (\"GBP\", \"USD\"), (\"USD\", \"CHF\")]"
   ]
  },
  {
   "cell_type": "code",
   "execution_count": 3,
   "id": "b1188883",
   "metadata": {},
   "outputs": [],
   "source": [
    "polygon = RESTClient(polygon_api)"
   ]
  },
  {
   "cell_type": "code",
   "execution_count": 10,
   "id": "9544dc53",
   "metadata": {},
   "outputs": [],
   "source": [
    "Base = declarative_base()\n",
    "\n",
    "class fx_data(Base):\n",
    "    __tablename__ = 'fx_rates'\n",
    "    id = Column(Integer, primary_key= True)\n",
    "    pair = Column(String)\n",
    "    fx_timestamp = Column(DateTime)\n",
    "    rate = Column(Float)\n",
    "    entry_timestamp = Column(DateTime, default=datetime.now(timezone.utc))\n",
    "\n",
    "    def __init__(self, pair, rate, fx_timestamp, entry_timestamp):\n",
    "        self.pair = pair\n",
    "        self.rate = rate\n",
    "        self.fx_timestamp = fx_timestamp\n",
    "        self.entry_timestamp = entry_timestamp\n",
    "\n",
    "engine = create_engine('sqlite:///{}'.format(sql_database_path))\n",
    "Base.metadata.create_all(engine)\n",
    "\n",
    "Session = sessionmaker(bind= engine)\n",
    "session = Session()"
   ]
  },
  {
   "cell_type": "code",
   "execution_count": 5,
   "id": "6093aece",
   "metadata": {},
   "outputs": [],
   "source": [
    "mongo = pymongo.MongoClient(mongo_db_url)\n",
    "mongo_db = mongo[mongo_db_name]\n",
    "mongo_collection = mongo_db[mongo_collection_name]"
   ]
  },
  {
   "cell_type": "code",
   "execution_count": null,
   "id": "36bdf852",
   "metadata": {},
   "outputs": [],
   "source": [
    "start_time = time.time()\n",
    "log_time = time.time()\n",
    "\n",
    "while((time.time() - start_time) < 7200):\n",
    "    iteration_start_time = time.time()\n",
    "\n",
    "    for base_c, quote_c in fx_list:\n",
    "        raw_data = polygon.get_real_time_currency_conversion(base_c,quote_c)\n",
    "        fx_timestamp = datetime.fromtimestamp(raw_data.last.timestamp / 1000,tz= timezone.utc)\n",
    "        rate = raw_data.converted\n",
    "        pair = '{},{}'.format(base_c,quote_c)\n",
    "        \n",
    "        if pair is None:\n",
    "            print('failed to fetch data '+str(datetime.now()))\n",
    "            break\n",
    "\n",
    "        fx_sql_data = fx_data(pair,rate,fx_timestamp,datetime.now(timezone.utc))\n",
    "        session.add(fx_sql_data)\n",
    "\n",
    "        fx_mongo_data = {'pair' : pair, 'fx_timestamp' : fx_timestamp, 'rate' : rate, 'entry_timestamp' : datetime.now(tz=timezone.utc)}\n",
    "        mongo_collection.insert_one(fx_mongo_data)\n",
    "    \n",
    "    try:\n",
    "        session.commit()\n",
    "    except Exception as e:\n",
    "        session.rollback()\n",
    "        print(f\"An error occurred: {e}\")\n",
    "\n",
    "    iteration_end_time = time.time()\n",
    "\n",
    "    if(iteration_end_time - iteration_start_time) < 1:\n",
    "        time.sleep(1-(iteration_end_time - iteration_start_time))\n",
    "    \n",
    "    if((iteration_end_time - log_time)>60):\n",
    "        log_time = time.time()\n",
    "        print(datetime.fromtimestamp(log_time))\n",
    "\n",
    "session.close()"
   ]
  },
  {
   "cell_type": "code",
   "execution_count": null,
   "id": "7d016282",
   "metadata": {},
   "outputs": [],
   "source": [
    "# mongo_collection.delete_many({})\n",
    "# documents = mongo_collection.find()\n",
    "# for doc in documents:\n",
    "#     print(doc)"
   ]
  },
  {
   "cell_type": "code",
   "execution_count": null,
   "id": "ecd87e34",
   "metadata": {},
   "outputs": [],
   "source": [
    "# session.query(fx_data).delete()\n",
    "# session.commit()\n",
    "#pd.read_sql('fx_rates', engine)"
   ]
  }
 ],
 "metadata": {
  "kernelspec": {
   "display_name": "pycaret",
   "language": "python",
   "name": "python3"
  },
  "language_info": {
   "codemirror_mode": {
    "name": "ipython",
    "version": 3
   },
   "file_extension": ".py",
   "mimetype": "text/x-python",
   "name": "python",
   "nbconvert_exporter": "python",
   "pygments_lexer": "ipython3",
   "version": "3.10.16"
  }
 },
 "nbformat": 4,
 "nbformat_minor": 5
}
